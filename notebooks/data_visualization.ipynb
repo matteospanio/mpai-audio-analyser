{
  "cells": [
    {
      "cell_type": "code",
      "execution_count": null,
      "metadata": {
        "collapsed": false
      },
      "outputs": [],
      "source": [
        "%matplotlib inline"
      ]
    },
    {
      "cell_type": "markdown",
      "metadata": {},
      "source": [
        "\n",
        "\n",
        "# Data Visualization\n",
        "\n",
        "This notebook shows the distribution of the datasets from `datasets`. The center of interest is to study the distribution of the labels in the dataset.\n"
      ]
    },
    {
      "cell_type": "markdown",
      "metadata": {},
      "source": [
        "Firstly we load the dataset and we display some information about it (the number of records and their features).\n",
        "\n"
      ]
    },
    {
      "cell_type": "code",
      "execution_count": null,
      "metadata": {
        "collapsed": false
      },
      "outputs": [],
      "source": [
        "from ml.datasets import load_pretto\n",
        "\n",
        "data = load_pretto()\n",
        "data.info()"
      ]
    },
    {
      "cell_type": "markdown",
      "metadata": {},
      "source": [
        "Displaing the distribution of the labels in a matrix we can see that when the equalization filters are the same, the number of noises found is almost costant across the different combinations (the main diagonal). While tapes recorded at a higher speed and reproduced at a lower speed have a higher number of noises (and viceversa).\n",
        "\n"
      ]
    },
    {
      "cell_type": "code",
      "execution_count": null,
      "metadata": {
        "collapsed": false
      },
      "outputs": [],
      "source": [
        "import matplotlib.pyplot as plt\n",
        "from ml.visualization import plot_distribution_matrix\n",
        "\n",
        "fig, axes = plt.subplots(2, 2, figsize=(13, 10), sharex=True, sharey=True)\n",
        "labels = [\"3N\", \"7C\", \"7N\", \"15C\", \"15N\"]\n",
        "\n",
        "filters = {'labels': labels, 'combination': True}\n",
        "\n",
        "for ax, noise in zip(axes.flatten(), [None, \"A\", \"B\", \"C\"]):\n",
        "    filters[\"noise_type\"] = noise\n",
        "    dataset = load_pretto(filters=filters)\n",
        "    plot_distribution_matrix(\n",
        "        dataset,\n",
        "        ax=ax,\n",
        "        labels=labels,\n",
        "        title=(f\"Noise type {noise}\" if noise is not None else \"Whole dataset\"))"
      ]
    },
    {
      "cell_type": "markdown",
      "metadata": {},
      "source": [
        "We can do the same process for the other dataset.\n",
        "\n"
      ]
    },
    {
      "cell_type": "code",
      "execution_count": null,
      "metadata": {
        "collapsed": false
      },
      "outputs": [],
      "source": [
        "from ml.datasets import load_berio_nono\n",
        "\n",
        "data = load_berio_nono()\n",
        "data.info()"
      ]
    },
    {
      "cell_type": "code",
      "execution_count": null,
      "metadata": {
        "collapsed": false
      },
      "outputs": [],
      "source": [
        "fig, axes = plt.subplots(2, 2, sharex=True, figsize=(13, 10))\n",
        "\n",
        "for ax, noise in zip(axes.flatten(), [None, \"A\", \"B\", \"C\"]):\n",
        "    labels = [\"7C\", \"7N\", \"15C\", \"15N\"]\n",
        "    dataset = load_berio_nono(filters={\n",
        "        'labels': labels,\n",
        "        \"noise_type\": noise,\n",
        "        'combination': True\n",
        "    })\n",
        "    plot_distribution_matrix(\n",
        "        dataset,\n",
        "        ax=ax,\n",
        "        labels=labels,\n",
        "        title=(f\"Noise type {noise}\" if noise is not None else \"Whole dataset\"))"
      ]
    },
    {
      "cell_type": "markdown",
      "metadata": {},
      "source": [
        "Since in Berio-Nono dataset there are only tapes with correct equalization the distribution matrix is less useful, as we can see it populates only the main diagonal. In this case it's more useful to use a more classic histogram as the one below.\n",
        "\n"
      ]
    },
    {
      "cell_type": "code",
      "execution_count": null,
      "metadata": {
        "collapsed": false
      },
      "outputs": [],
      "source": [
        "import seaborn as sns\n",
        "\n",
        "sns.histplot(data=data, x=\"label\", hue=\"noise_type\", multiple=\"stack\")\n",
        "plt.title(\"Distribution of the labels in the Berio-Nono dataset\")\n",
        "plt.xlabel(\"Equalization parameters\")"
      ]
    },
    {
      "cell_type": "markdown",
      "metadata": {},
      "source": [
        "Another interesting thing to study is how the two datasets are distributed in the feature space. We can do this by plotting the first two principal components of the dataset.\n",
        "\n"
      ]
    },
    {
      "cell_type": "code",
      "execution_count": null,
      "metadata": {
        "collapsed": false
      },
      "outputs": [],
      "source": [
        "from sklearn.decomposition import PCA\n",
        "import matplotlib.pyplot as plt\n",
        "\n",
        "fig, axes = plt.subplots(2,\n",
        "                         2,\n",
        "                         figsize=(13, 10),\n",
        "                         sharex=True,\n",
        "                         sharey=True,\n",
        "                         constrained_layout=True)\n",
        "\n",
        "data = load_pretto()\n",
        "pca = PCA(n_components=2)\n",
        "pca.fit(data.drop(columns=['noise_type', 'label'], axis=1))\n",
        "\n",
        "for ax, noise in zip(axes.flatten(), [None, \"A\", \"B\", \"C\"]):\n",
        "\n",
        "    pretto = load_pretto(filters={'noise_type': noise})\n",
        "    berio = load_berio_nono(filters={'noise_type': noise})\n",
        "\n",
        "    pretto = pretto.drop(columns=['noise_type', 'label'], axis=1)\n",
        "    berio = berio.drop(columns=['noise_type', 'label'], axis=1)\n",
        "\n",
        "    pretto2d = pca.transform(pretto)\n",
        "    berio2d = pca.transform(berio)\n",
        "\n",
        "    sns.scatterplot(x=pretto2d[:, 0], y=pretto2d[:, 1], ax=ax, label=\"Pretto\")\n",
        "    sns.scatterplot(x=berio2d[:, 0], y=berio2d[:, 1], ax=ax, label=\"Berio-Nono\")\n",
        "    ax.get_legend().remove()\n",
        "    ax.set_title(\n",
        "        f\"Noise type {noise}\" if noise is not None else \"Whole dataset\")\n",
        "    ax.set_xlabel(\"PC1\")\n",
        "    ax.set_ylabel(\"PC2\")\n",
        "\n",
        "plt.legend(bbox_to_anchor=(1.02, 1),\n",
        "           loc='upper left',\n",
        "           borderaxespad=0,\n",
        "           title=\"Dataset\")\n",
        "plt.suptitle(\"Distribution of the datasets in the feature space\",\n",
        "             size=16,\n",
        "             y=1.05)"
      ]
    }
  ],
  "metadata": {
    "kernelspec": {
      "display_name": "audiohandler-BO7RUw7L-py3.10",
      "language": "python",
      "name": "python3"
    },
    "language_info": {
      "codemirror_mode": {
        "name": "ipython",
        "version": 3
      },
      "file_extension": ".py",
      "mimetype": "text/x-python",
      "name": "python",
      "nbconvert_exporter": "python",
      "pygments_lexer": "ipython3",
      "version": "3.10.6"
    },
    "vscode": {
      "interpreter": {
        "hash": "b599be24a8d93884fd001ad20dc2e37bac390bcb7f16df6697b044b0aa8ad4fa"
      }
    }
  },
  "nbformat": 4,
  "nbformat_minor": 0
}
